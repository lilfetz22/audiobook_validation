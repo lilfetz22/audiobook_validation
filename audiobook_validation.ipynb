{
  "cells": [
    {
      "cell_type": "markdown",
      "metadata": {
        "colab_type": "text",
        "id": "view-in-github"
      },
      "source": [
        "<a href=\"https://colab.research.google.com/github/lilfetz22/audiobook_validation/blob/main/audiobook_validation.ipynb\" target=\"_parent\"><img src=\"https://colab.research.google.com/assets/colab-badge.svg\" alt=\"Open In Colab\"/></a>"
      ]
    },
    {
      "cell_type": "code",
      "execution_count": 9,
      "metadata": {
        "id": "7rbu_jY4R-IT"
      },
      "outputs": [],
      "source": [
        "!pip install -U openai-whisper &> /dev/null"
      ]
    },
    {
      "cell_type": "code",
      "execution_count": 10,
      "metadata": {
        "colab": {
          "base_uri": "https://localhost:8080/"
        },
        "id": "X2xzcKMvR6n6",
        "outputId": "ce8f195c-793c-411f-9c53-8ac01fcfaf7b"
      },
      "outputs": [
        {
          "name": "stdout",
          "output_type": "stream",
          "text": [
            "Clearing memory...\n",
            "✅ Memory cleared.\n"
          ]
        }
      ],
      "source": [
        "# --- Step 2: Imports and Memory Cleanup ---\n",
        "import torch\n",
        "import gc\n",
        "import whisper # This is the official library\n",
        "import json\n",
        "import os\n",
        "from google.colab import drive\n",
        "\n",
        "# Free up memory before we start\n",
        "print(\"Clearing memory...\")\n",
        "gc.collect()\n",
        "torch.cuda.empty_cache()\n",
        "print(\"✅ Memory cleared.\")"
      ]
    },
    {
      "cell_type": "code",
      "execution_count": 11,
      "metadata": {
        "colab": {
          "base_uri": "https://localhost:8080/"
        },
        "id": "RN6aGjhsR2ce",
        "outputId": "1bd94fe4-2baa-4a72-8e4e-ebae44153950"
      },
      "outputs": [
        {
          "name": "stdout",
          "output_type": "stream",
          "text": [
            "Drive already mounted at /content/drive; to attempt to forcibly remount, call drive.mount(\"/content/drive\", force_remount=True).\n",
            "✅ Google Drive Mounted. You can now access your files.\n"
          ]
        }
      ],
      "source": [
        "from google.colab import drive\n",
        "drive.mount('/content/drive')\n",
        "\n",
        "print(\"✅ Google Drive Mounted. You can now access your files.\")\n"
      ]
    },
    {
      "cell_type": "code",
      "execution_count": null,
      "metadata": {
        "id": "t1p9d2uoR7DJ"
      },
      "outputs": [],
      "source": [
        "#@title Step 4: Specify the Directory to your Filepath Folder\n",
        "#@markdown 1. Mount your Google Drive in the cell above.\n",
        "#@markdown 2. Find your MP3 file in the file browser on the left.\n",
        "#@markdown 3. Right-click the MP3 file and select \"Copy path\".\n",
        "#@markdown 4. Paste the path into the `audio_file_path` field below and run this cell.\n",
        "\n",
        "import os\n",
        "\n",
        "# This line creates the form field.\n",
        "# The user's input will be stored in the 'audio_file_path' variable.\n",
        "path_to_translated_audiobooks = \"/content/drive/MyDrive/\" #@param {type:\"string\"}\n",
        "\n",
        "# --- Validation ---\n",
        "if not path_to_translated_audiobooks.strip():\n",
        "  print(\"❌ ERROR: The audio file path cannot be empty. Please paste the path and run again.\")\n",
        "elif not os.path.exists(path_to_translated_audiobooks):\n",
        "  print(f\"❌ ERROR: The file was not found at the specified path: {path_to_translated_audiobooks}\")\n",
        "  print(\"Please check the path is correct and that your Google Drive is mounted.\")\n",
        "else:\n",
        "  print(f\"✅ File found successfully!\")\n",
        "  print(f\"   -> {path_to_translated_audiobooks}\")"
      ]
    },
    {
      "cell_type": "code",
      "execution_count": 13,
      "metadata": {
        "colab": {
          "base_uri": "https://localhost:8080/"
        },
        "id": "ipfg59G2UAhz",
        "outputId": "b6caf0cd-ca23-496c-e287-6d66f392a0b0"
      },
      "outputs": [
        {
          "name": "stdout",
          "output_type": "stream",
          "text": [
            "✅ GPU found. Using CUDA for processing.\n",
            "Loading official Whisper 'medium' model...\n",
            "✅ Model Loaded.\n"
          ]
        }
      ],
      "source": [
        "# Check if a GPU is available, otherwise use CPU\n",
        "device = \"cuda\" if torch.cuda.is_available() else \"cpu\"\n",
        "if device == \"cuda\":\n",
        "    print(\"✅ GPU found. Using CUDA for processing.\")\n",
        "else:\n",
        "    print(\"⚠️ GPU not found. Using CPU. Processing will be very slow.\")\n",
        "\n",
        "# We will continue to use the 'medium' model as it's a safe and powerful choice.\n",
        "model_name = \"medium\"\n",
        "print(f\"Loading official Whisper '{model_name}' model...\")\n",
        "model = whisper.load_model(model_name, device=device)\n",
        "print(\"✅ Model Loaded.\")"
      ]
    },
    {
      "cell_type": "code",
      "execution_count": 14,
      "metadata": {
        "colab": {
          "base_uri": "https://localhost:8080/"
        },
        "id": "IVNywNe0amcS",
        "outputId": "9971ba13-0d09-42a2-fcd6-9c3ff0da4491"
      },
      "outputs": [
        {
          "name": "stdout",
          "output_type": "stream",
          "text": [
            "\n",
            "Starting transcription of: 2 - ADP.mp3...\n",
            "Transcription complete. Detected language: FR\n",
            "\n",
            "✅ All Done!\n",
            "Timestamp file saved successfully to: /content/drive/MyDrive/AIA/Translated Audiobooks/Leadership/French/2 - ADP_timestamps.json\n",
            "\n",
            "--- Verification: First 20 words ---\n",
            "[\n",
            "  {\n",
            "    \"word\": \" Chapitre\",\n",
            "    \"start\": 0.6000000000000063,\n",
            "    \"end\": 1.0800000000000032,\n",
            "    \"probability\": 0.935927172501882\n",
            "  },\n",
            "  {\n",
            "    \"word\": \" 2.\",\n",
            "    \"start\": 1.0800000000000032,\n",
            "    \"end\": 1.56,\n",
            "    \"probability\": 0.871484100818634\n",
            "  },\n",
            "  {\n",
            "    \"word\": \" Ce\",\n",
            "    \"start\": 1.74,\n",
            "    \"end\": 1.9,\n",
            "    \"probability\": 0.8392883539199829\n",
            "  },\n",
            "  {\n",
            "    \"word\": \" que\",\n",
            "    \"start\": 1.9,\n",
            "    \"end\": 2.12,\n",
            "    \"probability\": 0.9950376152992249\n",
            "  },\n",
            "  {\n",
            "    \"word\": \" vous\",\n",
            "    \"start\": 2.12,\n",
            "    \"end\": 2.3,\n",
            "    \"probability\": 0.9964411854743958\n",
            "  },\n",
            "  {\n",
            "    \"word\": \" dites\",\n",
            "    \"start\": 2.3,\n",
            "    \"end\": 2.62,\n",
            "    \"probability\": 0.9755383133888245\n",
            "  },\n",
            "  {\n",
            "    \"word\": \" quand\",\n",
            "    \"start\": 2.62,\n",
            "    \"end\": 3.04,\n",
            "    \"probability\": 0.9545838832855225\n",
            "  },\n",
            "  {\n",
            "    \"word\": \" vous\",\n",
            "    \"start\": 3.04,\n",
            "    \"end\": 3.32,\n",
            "    \"probability\": 0.9966170191764832\n",
            "  },\n",
            "  {\n",
            "    \"word\": \" ne\",\n",
            "    \"start\": 3.32,\n",
            "    \"end\": 3.56,\n",
            "    \"probability\": 0.9978647828102112\n",
            "  },\n",
            "  {\n",
            "    \"word\": \" dites\",\n",
            "    \"start\": 3.56,\n",
            "    \"end\": 3.76,\n",
            "    \"probability\": 0.9675433039665222\n",
            "  },\n",
            "  {\n",
            "    \"word\": \" rien.\",\n",
            "    \"start\": 3.76,\n",
            "    \"end\": 4.08,\n",
            "    \"probability\": 0.9990912675857544\n",
            "  },\n",
            "  {\n",
            "    \"word\": \" Oh\",\n",
            "    \"start\": 5.06,\n",
            "    \"end\": 5.16,\n",
            "    \"probability\": 0.4419358968734741\n",
            "  },\n",
            "  {\n",
            "    \"word\": \" là\",\n",
            "    \"start\": 5.16,\n",
            "    \"end\": 5.42,\n",
            "    \"probability\": 0.6187801957130432\n",
            "  },\n",
            "  {\n",
            "    \"word\": \" là,\",\n",
            "    \"start\": 5.42,\n",
            "    \"end\": 5.72,\n",
            "    \"probability\": 0.969363272190094\n",
            "  },\n",
            "  {\n",
            "    \"word\": \" je\",\n",
            "    \"start\": 5.82,\n",
            "    \"end\": 6.04,\n",
            "    \"probability\": 0.9938898086547852\n",
            "  },\n",
            "  {\n",
            "    \"word\": \" vais\",\n",
            "    \"start\": 6.04,\n",
            "    \"end\": 6.16,\n",
            "    \"probability\": 0.9955193996429443\n",
            "  },\n",
            "  {\n",
            "    \"word\": \" me\",\n",
            "    \"start\": 6.16,\n",
            "    \"end\": 6.28,\n",
            "    \"probability\": 0.9895163178443909\n",
            "  },\n",
            "  {\n",
            "    \"word\": \" faire\",\n",
            "    \"start\": 6.28,\n",
            "    \"end\": 6.58,\n",
            "    \"probability\": 0.9995468258857727\n",
            "  },\n",
            "  {\n",
            "    \"word\": \" virer\",\n",
            "    \"start\": 6.58,\n",
            "    \"end\": 6.94,\n",
            "    \"probability\": 0.9913962185382843\n",
            "  },\n",
            "  {\n",
            "    \"word\": \" aujourd\",\n",
            "    \"start\": 6.94,\n",
            "    \"end\": 7.4,\n",
            "    \"probability\": 0.983497142791748\n",
            "  }\n",
            "]\n"
          ]
        }
      ],
      "source": [
        "for chap_num in [2]:\n",
        "    audio_file_path = path_to_translated_audiobooks + book_path + language\n",
        "    # audio_file_path += f\"Capitulo {chap_num}.mp3\"\n",
        "    audio_file_path += f\"{chap_num} - ADP.mp3\"\n",
        "    # --- Step 5: Transcribe and Generate Timestamp File ---\n",
        "    print(f\"\\nStarting transcription of: {os.path.basename(audio_file_path)}...\")\n",
        "\n",
        "    # The official library's transcribe function can directly output word timestamps.\n",
        "    result = model.transcribe(audio_file_path, word_timestamps=True)\n",
        "    detected_language = result[\"language\"]\n",
        "    print(f\"Transcription complete. Detected language: {detected_language.upper()}\")\n",
        "\n",
        "\n",
        "    # Reformat the output into our desired JSON structure\n",
        "    # The output format is slightly different from whisperx, so we parse it accordingly.\n",
        "    final_output = {\n",
        "        \"language\": detected_language,\n",
        "        \"transcription_text\": result[\"text\"],\n",
        "        \"words\": []\n",
        "    }\n",
        "\n",
        "    for segment in result[\"segments\"]:\n",
        "        for word_info in segment[\"words\"]:\n",
        "            # The structure is already clean: {'word': 'Bonjour', 'start': 0.5, 'end': 1.0}\n",
        "            final_output[\"words\"].append(word_info)\n",
        "\n",
        "    # Save the final JSON file\n",
        "    output_path = os.path.splitext(audio_file_path)[0] + \"_timestamps.json\"\n",
        "\n",
        "    with open(output_path, 'w', encoding='utf-8') as f:\n",
        "        json.dump(final_output, f, indent=2, ensure_ascii=False)\n",
        "\n",
        "    print(\"\\n✅ All Done!\")\n",
        "    print(f\"Timestamp file saved successfully to: {output_path}\")\n",
        "\n",
        "    # Optional: Display the first 20 words from the output for verification\n",
        "    print(\"\\n--- Verification: First 20 words ---\")\n",
        "    print(json.dumps(final_output[\"words\"][:20], indent=2, ensure_ascii=False))"
      ]
    }
  ],
  "metadata": {
    "accelerator": "GPU",
    "colab": {
      "authorship_tag": "ABX9TyM5gZ8Kx/gJXXj9pIQUKbRw",
      "gpuType": "T4",
      "include_colab_link": true,
      "provenance": []
    },
    "kernelspec": {
      "display_name": "Python 3",
      "name": "python3"
    },
    "language_info": {
      "name": "python"
    }
  },
  "nbformat": 4,
  "nbformat_minor": 0
}
